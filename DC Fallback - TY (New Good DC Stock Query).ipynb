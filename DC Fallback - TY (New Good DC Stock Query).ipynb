{
 "cells": [
  {
   "cell_type": "markdown",
   "metadata": {},
   "source": [
    "# Open SQL Connections"
   ]
  },
  {
   "cell_type": "code",
   "execution_count": 1,
   "metadata": {},
   "outputs": [],
   "source": [
    "import pandas as pd\n",
    "import pyodbc\n",
    "import numpy as np\n",
    "import os\n",
    "\n",
    "#Define SQL Connections\n",
    "sql_conn1 = pyodbc.connect('Trusted_Connection=Yes;'\n",
    "                          'driver={SQL Server Native Client 11.0};'\n",
    "                          'server=PWDA2SUPPSQL01\\supinst01;'\n",
    "                         'Database=PROD')\n",
    "\n",
    "\n",
    "sql_conn2 = pyodbc.connect('Trusted_Connection=Yes;'\n",
    "                          'driver={SQL Server Native Client 11.0};'\n",
    "                          'server=pwaa11sqlsobi01;'\n",
    "                         'Database=so_orders')"
   ]
  },
  {
   "cell_type": "markdown",
   "metadata": {},
   "source": [
    "# Define Variables"
   ]
  },
  {
   "cell_type": "code",
   "execution_count": 2,
   "metadata": {},
   "outputs": [],
   "source": [
    "i =-1"
   ]
  },
  {
   "cell_type": "code",
   "execution_count": 3,
   "metadata": {},
   "outputs": [],
   "source": [
    "j = i*7-6"
   ]
  },
  {
   "cell_type": "code",
   "execution_count": 4,
   "metadata": {},
   "outputs": [],
   "source": [
    "k = i*7"
   ]
  },
  {
   "cell_type": "markdown",
   "metadata": {},
   "source": [
    "# Delete oldest weeks data"
   ]
  },
  {
   "cell_type": "code",
   "execution_count": null,
   "metadata": {},
   "outputs": [],
   "source": [
    "DeleteWeekCode = \"\"\"SELECT DISTINCT Datekey,YearWeek FROM [PROD].[dbo].[DimDate] WHERE WeekOffset = \"\"\" + str(i-8)\n",
    "DeleteWeekdf = pd.read_sql_query(DeleteWeekCode,sql_conn1)\n",
    "DeleteWeekno = DeleteWeekdf['YearWeek'].unique().tolist()"
   ]
  },
  {
   "cell_type": "code",
   "execution_count": null,
   "metadata": {},
   "outputs": [],
   "source": [
    "#DC Fallback Update\n",
    "df1 = pd.read_csv(\"\"\"P:\\Commercial Supply\\SOM Analysis\\Insight\\Working documents\\Sian\\RFC\\DC Fallback Data New (New Good DC).csv\"\"\")\n",
    "df1New = df1[df1.Week != DeleteWeekno]\n",
    "path1 = \"\"\"P:\\Commercial Supply\\SOM Analysis\\Insight\\Working documents\\Sian\\RFC\\DC Fallback Data New (New Good DC).csv\"\"\"\n",
    "os.remove(\"P:\\Commercial Supply\\SOM Analysis\\Insight\\Working documents\\Sian\\RFC\\DC Fallback Data New (New Good DC).csv\")\n",
    "df1New.to_csv(path1,mode='a',header=True,index = False)"
   ]
  },
  {
   "cell_type": "markdown",
   "metadata": {},
   "source": [
    "# Define Stores DB SQL Query Text"
   ]
  },
  {
   "cell_type": "code",
   "execution_count": null,
   "metadata": {
    "scrolled": true
   },
   "outputs": [],
   "source": [
    "#Stores Query Text\n",
    "Stores = \"\"\"SELECT transaction_date_key datekey\n",
    ",[product_number]\n",
    ",[collection_location_number]\n",
    ",[fulfilment_location_number]\n",
    ",case when [proposition] = 'Store in Store' then 'Store in Store' when [proposition] = 'Micro' then 'Store in Store'\n",
    "when [proposition] = 'Collection Point' then 'Collection Point' when [proposition] = 'Staff Collection Point' then 'Collection Point'\n",
    "when ful.[location_type] = 'Standalone' then 'Spoke'\n",
    "when [collection_location_number] in (4168,4226) then 'Store in Store'\n",
    "else ful.[location_type] end as storetype\n",
    ",sum([original_quantity_ordered]) SumQtyOrdered\n",
    ",coalesce(ful.[parent_location],[collection_location_number]) HubLocn\n",
    ",case\n",
    "when ful.parent_location in (4716,4717,4719,4370) then collection_location_number\n",
    "else ful.parent_location\n",
    "end as 'HubLocn2'\n",
    ",case\n",
    "when ful.parent_location in (4716,4717,4719,4370)\n",
    "then ful.parent_location\n",
    "when ful2.parent_location in (4716,4717,4719,4370)\n",
    "then ful2.parent_location else 'NA'\n",
    "end as 'RFCNo'\n",
    ",case\n",
    "when ful.parent_location in (4716,4717,4719,4370)\n",
    "then 'RFC Direct'\n",
    "when ful2.parent_location in (4716,4717,4719,4370)\n",
    "then 'RFC X-dock' else 'Non-RFC'\n",
    "end as 'RFCStatus'\n",
    ",case\n",
    "when fulfilment_location_number in (4716,4717,4719,4370) then 'RFC Fulfilled'\n",
    "else 'DC Fulfilled'\n",
    "end as 'Fulfilled By'\n",
    ",ser.Range\n",
    "FROM [so_orders].[hddw].[store_orders] as ord\n",
    "inner join [so_common].[dim].[date] as dat on ord.transaction_date_key=dat.Date_Key\n",
    "left join [so_sales].[midas].[trading_hierarchy] as ser on ord.series_id=ser.series_number\n",
    "left join [so_common].[location].[fulfilment] as ful on ord.collection_location_number=ful.location_number and (ord.transaction_date_key>=ful.start_date_key and ord.transaction_date_key<coalesce(ful.end_date_key,20990101))\n",
    "left join [so_common].[location].[locations] loc on loc.location_number = ful.location_number\n",
    "left join [so_common].[location].[proposition] prop on loc.[proposition_id]=prop.id\n",
    "left join [so_common].[location].[fulfilment] as ful2 on ful.parent_location=ful2.location_number and (ord.transaction_date_key>=ful2.start_date_key and ord.transaction_date_key<coalesce(ful2.end_date_key,20990101))\n",
    "where ord.fulfilment_location_number in (605,607,610,612,615,616,631,4370,4716,4717,4719)\n",
    "and ord.status_code_key in (select id_key from [hddw].[order_status_key] where description ='Order Placed' or  description ='Stock Reserved')\n",
    "and (ful.parent_location in (4716,4717,4719,4370) or ful2.parent_location in (4716,4717,4719,4370))\n",
    "and convert(varchar(20), date_key,101) BETWEEN\n",
    "(SELECT\n",
    "DATEADD(DAY,\"\"\" + str(j) + \"\"\",cal_date)  from [so_common].[dim].[date]\n",
    "where argos_week in (select argos_week from [so_common].[dim].[date]  where cal_date = convert(varchar(20),getdate(),101))\n",
    "and financial_year in (select financial_year from [so_common].[dim].[date]  where cal_date = convert(varchar(20),getdate(),101))\n",
    "AND day_of_week=7)\n",
    "AND\n",
    "(SELECT\n",
    "DATEADD(DAY,\"\"\" + str(k) + \"\"\",cal_date)  from [so_common].[dim].[date]\n",
    "where argos_week in (select argos_week from [so_common].[dim].[date]  where cal_date = convert(varchar(20),getdate(),101))\n",
    "and financial_year in (select financial_year from [so_common].[dim].[date]  where cal_date = convert(varchar(20),getdate(),101))\n",
    "AND day_of_week=7)\n",
    "group by transaction_date_key\n",
    ",[product_number]\n",
    ",[collection_location_number]\n",
    ",[fulfilment_location_number]\n",
    ",case when [proposition] = 'Store in Store' then 'Store in Store' when [proposition] = 'Micro' then 'Store in Store'\n",
    "when [proposition] = 'Collection Point' then 'Collection Point' when [proposition] = 'Staff Collection Point' then 'Collection Point'\n",
    "when ful.[location_type] = 'Standalone' then 'Spoke'\n",
    "when [collection_location_number] in (4168,4226) then 'Store in Store'\n",
    "else ful.[location_type] end\n",
    ",coalesce(ful.[parent_location],[collection_location_number])\n",
    ",case\n",
    "when ful.parent_location in (4716,4717,4719,4370) then collection_location_number\n",
    "else ful.parent_location\n",
    "end\n",
    ",case\n",
    "when ful.parent_location in (4716,4717,4719,4370)\n",
    "then 'RFC Direct'\n",
    "when ful2.parent_location in (4716,4717,4719,4370)\n",
    "then 'RFC X-dock' else 'Non-RFC'\n",
    "end\n",
    ",case\n",
    "when ful.parent_location in (4716,4717,4719,4370)\n",
    "then ful.parent_location\n",
    "when ful2.parent_location in (4716,4717,4719,4370)\n",
    "then ful2.parent_location else 'NA'\n",
    "end\n",
    ",case\n",
    "when fulfilment_location_number in (4716,4717,4719,4370) then 'RFC Fulfilled'\n",
    "else 'DC Fulfilled'\n",
    "end\n",
    ",ser.Range\"\"\""
   ]
  },
  {
   "cell_type": "markdown",
   "metadata": {},
   "source": [
    "# Run Stores SQL Query"
   ]
  },
  {
   "cell_type": "code",
   "execution_count": null,
   "metadata": {},
   "outputs": [],
   "source": [
    "Storesdf = pd.read_sql_query(Stores,sql_conn2)\n",
    "Storesdf['HubLocn2'] = Storesdf['HubLocn2'].fillna(Storesdf['HubLocn'])"
   ]
  },
  {
   "cell_type": "markdown",
   "metadata": {},
   "source": [
    "Create date list for weekoffset = i"
   ]
  },
  {
   "cell_type": "code",
   "execution_count": null,
   "metadata": {},
   "outputs": [],
   "source": [
    "WeekCode = \"\"\"SELECT DISTINCT Datekey,YearWeek FROM [PROD].[dbo].[DimDate] WHERE WeekOffset = \"\"\" + str(i)\n",
    "Weekdf = pd.read_sql_query(WeekCode,sql_conn1)\n",
    "\n",
    "DateList = \",\".join([str(x) for x in Weekdf['Datekey'].unique().tolist()])\n",
    "Weekno = Weekdf['YearWeek'].unique().astype(int)\n",
    "Dates = Weekdf['Datekey'].unique().tolist()"
   ]
  },
  {
   "cell_type": "code",
   "execution_count": null,
   "metadata": {},
   "outputs": [],
   "source": [
    "Storesdf.HubLocn2 = Storesdf.HubLocn2.astype(int)\n",
    "Storesdf['product_number'] = Storesdf['product_number'].astype(int)"
   ]
  },
  {
   "cell_type": "code",
   "execution_count": null,
   "metadata": {},
   "outputs": [],
   "source": [
    "from datetime import datetime, timedelta\n",
    "x = str(min(Dates))\n",
    "y = str(max(Dates))\n",
    "        \n",
    "startdate = datetime(year=int(x[0:4]), month=int(x[4:6]), day=int(x[6:8]))\n",
    "enddate = datetime(year=int(y[0:4]), month=int(y[4:6]), day=int(y[6:8]))        \n",
    "mindate = startdate - timedelta(days=3)\n",
    "\n",
    "s = mindate.strftime(\"%Y%m%d\")\n",
    "t = enddate.strftime(\"%Y%m%d\")"
   ]
  },
  {
   "cell_type": "markdown",
   "metadata": {},
   "source": [
    "# Define SA SQL Query"
   ]
  },
  {
   "cell_type": "code",
   "execution_count": null,
   "metadata": {},
   "outputs": [],
   "source": [
    "Unlock = \"\"\"set transaction isolation level read uncommitted\n",
    "SELECT loc.StoreNo,Catno,max(convert(int,RUTLUse)) Planned,max(convert(int,[Unlock])) Unlock,loc2.SterlingLocn as DC, OnCostSheet\n",
    "FROM [PROD].[dbo].[FactAvailabilityImmediate] AS FAI\n",
    "inner join [PROD].[dbo].[DimProduct_SA] as dpm on fai.ProductID=dpm.ProductID\n",
    "inner join [PROD].[dbo].[DimLocation] as loc on fai.LocationID=loc.LocationID\n",
    "inner join [PROD].[dbo].[DimLocation] as loc2 on fai.DCLocID=loc2.LocationID\n",
    "WHERE TeirID=1 AND datekey in (\"\"\" + DateList + \"\"\")\n",
    "GROUP BY loc.StoreNo,Catno,loc2.SterlingLocn, OnCostSheet\"\"\""
   ]
  },
  {
   "cell_type": "code",
   "execution_count": null,
   "metadata": {},
   "outputs": [],
   "source": [
    "GoodDCStock = \"\"\"set transaction isolation level read uncommitted\n",
    "SELECT datekey,Catno 'product_number'\n",
    ",SterlingLocn RFCNo\n",
    ",StockStatus as 'Good DC Stock'\n",
    "from \n",
    "[SANDBOX].[PM].[dcavailb] GDS\n",
    "inner join  [PROD].[dbo].[DimProduct_SA] PSA With(NoLock) on psa.ProductID=GDS.ProductID\n",
    "inner join [PROD].[dbo].DimLocation LOC With(NoLock) on LOC.LocationID=GDS.StoreLocID\n",
    "where datekey in (\"\"\" + DateList + \"\"\")\n",
    "and SterlingLocn in ('4716','4717','4719','4370')\"\"\""
   ]
  },
  {
   "cell_type": "code",
   "execution_count": null,
   "metadata": {},
   "outputs": [],
   "source": [
    "GoodDC = pd.read_sql_query(GoodDCStock,sql_conn1)\n",
    "GoodDC.RFCNo = GoodDC.RFCNo.astype(int)"
   ]
  },
  {
   "cell_type": "code",
   "execution_count": null,
   "metadata": {},
   "outputs": [],
   "source": [
    "Unlockdf = pd.read_sql_query(Unlock,sql_conn1)\n",
    "Unlockdf.DC = Unlockdf.DC.astype(int)\n",
    "Unlockdf.columns = ['HubLocn2','product_number','Planned','Unlock','DC','OnCostSheet']"
   ]
  },
  {
   "cell_type": "markdown",
   "metadata": {},
   "source": [
    "# Merge datasets and replace NAs"
   ]
  },
  {
   "cell_type": "code",
   "execution_count": null,
   "metadata": {},
   "outputs": [],
   "source": [
    "merge_df1 = pd.merge(Storesdf,Unlockdf[['HubLocn2','product_number','Planned','Unlock','OnCostSheet']], how='left',on=('HubLocn2','product_number'))\n",
    "merge_df1['Planned'] = merge_df1['Planned'].fillna(0)\n",
    "merge_df1['Unlock'] = merge_df1['Unlock'].fillna(0)\n",
    "merge_df1['OnCostSheet'] = merge_df1['OnCostSheet'].fillna(False)"
   ]
  },
  {
   "cell_type": "code",
   "execution_count": null,
   "metadata": {},
   "outputs": [],
   "source": [
    "merge_df2 = pd.merge(merge_df1,GoodDC, how = 'left', on = ('product_number', 'RFCNo','datekey'))\n",
    "merge_df2['Good DC Stock'] = merge_df2['Good DC Stock'].fillna(2)"
   ]
  },
  {
   "cell_type": "code",
   "execution_count": null,
   "metadata": {},
   "outputs": [],
   "source": [
    "merge_df2sum = merge_df2.groupby(['product_number','collection_location_number','fulfilment_location_number','storetype','HubLocn','HubLocn2','RFCNo','RFCStatus','Fulfilled By','Range','Planned','Unlock','OnCostSheet','Good DC Stock']).agg(\n",
    "    {'SumQtyOrdered' : 'sum'})"
   ]
  },
  {
   "cell_type": "markdown",
   "metadata": {},
   "source": [
    "# Create final data set for export"
   ]
  },
  {
   "cell_type": "code",
   "execution_count": null,
   "metadata": {},
   "outputs": [],
   "source": [
    "merge_df2sum['Week'] = int(Weekno)"
   ]
  },
  {
   "cell_type": "code",
   "execution_count": null,
   "metadata": {},
   "outputs": [],
   "source": [
    "path3 = \"\"\"P:\\Commercial Supply\\SOM Analysis\\Insight\\Working documents\\Sian\\RFC\\DC Fallback Data New (New Good DC).csv\"\"\"\n",
    "merge_df2sum.to_csv(path3,mode='a',header=False,index = True)"
   ]
  },
  {
   "cell_type": "markdown",
   "metadata": {},
   "source": [
    "Close SQL Connection"
   ]
  },
  {
   "cell_type": "code",
   "execution_count": null,
   "metadata": {},
   "outputs": [],
   "source": [
    "csr1 = sql_conn1.cursor()  \n",
    "csr1.close()\n",
    "del csr1\n",
    "sql_conn1.close()\n",
    "\n",
    "crsr2 = sql_conn2.cursor()\n",
    "crsr2.close()\n",
    "del crsr2\n",
    "sql_conn2.close()"
   ]
  }
 ],
 "metadata": {
  "kernelspec": {
   "display_name": "Python 3",
   "language": "python",
   "name": "python3"
  },
  "language_info": {
   "codemirror_mode": {
    "name": "ipython",
    "version": 3
   },
   "file_extension": ".py",
   "mimetype": "text/x-python",
   "name": "python",
   "nbconvert_exporter": "python",
   "pygments_lexer": "ipython3",
   "version": "3.7.1"
  }
 },
 "nbformat": 4,
 "nbformat_minor": 2
}
