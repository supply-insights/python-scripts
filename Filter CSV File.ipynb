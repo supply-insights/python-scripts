{
 "cells": [
  {
   "cell_type": "code",
   "execution_count": 1,
   "metadata": {},
   "outputs": [],
   "source": [
    "import pandas as pd\n",
    "import pyodbc\n",
    "import numpy as np\n",
    "import os"
   ]
  },
  {
   "cell_type": "code",
   "execution_count": 2,
   "metadata": {},
   "outputs": [],
   "source": [
    "df1 = pd.read_csv(\"\"\"P:\\Commercial Supply\\SOM Analysis\\Insight\\Working documents\\Sian\\RFC\\DC Fallback Data New.csv\"\"\")"
   ]
  },
  {
   "cell_type": "code",
   "execution_count": 3,
   "metadata": {},
   "outputs": [],
   "source": [
    "WeekList = \",\".join([str(x) for x in df1['Week'].unique().tolist()])"
   ]
  },
  {
   "cell_type": "code",
   "execution_count": 4,
   "metadata": {},
   "outputs": [
    {
     "name": "stdout",
     "output_type": "stream",
     "text": [
      "201909,201910,201911,201912,201913,201914,201915,201916\n"
     ]
    }
   ],
   "source": [
    "print(WeekList)"
   ]
  },
  {
   "cell_type": "code",
   "execution_count": 4,
   "metadata": {},
   "outputs": [],
   "source": [
    "DeleteWeekno = 201906"
   ]
  },
  {
   "cell_type": "code",
   "execution_count": 5,
   "metadata": {},
   "outputs": [],
   "source": [
    "#DC Fallback Update\n",
    "df1 = pd.read_csv(\"\"\"P:\\Commercial Supply\\SOM Analysis\\Insight\\Working documents\\Sian\\RFC\\DC Fallback Data New.csv\"\"\")\n",
    "df1New = df1[df1.Week != DeleteWeekno]\n",
    "path1 = \"\"\"P:\\Commercial Supply\\SOM Analysis\\Insight\\Working documents\\Sian\\RFC\\DC Fallback Data New.csv\"\"\"\n",
    "os.remove(\"P:\\Commercial Supply\\SOM Analysis\\Insight\\Working documents\\Sian\\RFC\\DC Fallback Data New.csv\")\n",
    "df1New.to_csv(path1,mode='a',header=True,index = False)"
   ]
  },
  {
   "cell_type": "code",
   "execution_count": null,
   "metadata": {},
   "outputs": [],
   "source": []
  }
 ],
 "metadata": {
  "kernelspec": {
   "display_name": "Python 3",
   "language": "python",
   "name": "python3"
  },
  "language_info": {
   "codemirror_mode": {
    "name": "ipython",
    "version": 3
   },
   "file_extension": ".py",
   "mimetype": "text/x-python",
   "name": "python",
   "nbconvert_exporter": "python",
   "pygments_lexer": "ipython3",
   "version": "3.7.1"
  }
 },
 "nbformat": 4,
 "nbformat_minor": 2
}
